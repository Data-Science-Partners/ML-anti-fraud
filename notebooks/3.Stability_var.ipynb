{
 "cells": [
  {
   "cell_type": "markdown",
   "metadata": {},
   "source": [
    "# Lib"
   ]
  },
  {
   "cell_type": "code",
   "execution_count": 1,
   "metadata": {},
   "outputs": [],
   "source": [
    "%load_ext autoreload\n",
    "%autoreload 2\n",
    "\n",
    "import pandas as pd\n",
    "\n",
    "pd.set_option('display.max_rows', 500)\n",
    "pd.set_option('display.max_columns', 500)\n",
    "pd.set_option('display.width', 10000)\n",
    "\n",
    "\n",
    "import numpy as np\n",
    "import seaborn as sns\n",
    "import matplotlib.pyplot as plt\n",
    "import sys\n",
    "import os\n",
    "import glob\n",
    "import joblib\n",
    "\n",
    "if sys.platform=='win32':\n",
    "    sys.path.insert(0,\".\\..\\src\")\n",
    "        \n",
    "elif sys.platform=='linux':\n",
    "    sys.path.insert(0,\"./../src\")\n",
    "\n",
    "from utils import utils_ml, parameters\n"
   ]
  },
  {
   "cell_type": "code",
   "execution_count": 2,
   "metadata": {},
   "outputs": [
    {
     "name": "stdout",
     "output_type": "stream",
     "text": [
      " O volume na unidade C � OS\n",
      " O N�mero de S�rie do Volume � C498-8BF5\n",
      "\n",
      " Pasta de c:\\Users\\caanp\\OneDrive\\Documents\\repositories\\ML-anti-fraud\\notebooks\n",
      "\n",
      "18/11/2022  19:16    <DIR>          .\n",
      "18/11/2022  16:18    <DIR>          ..\n",
      "10/09/2022  23:28    <DIR>          .ipynb_checkpoints\n",
      "18/11/2022  16:18         1.047.962 1.EA.ipynb\n",
      "18/11/2022  20:25            67.359 2.Feature_engineering.ipynb\n",
      "18/11/2022  20:26            20.594 3.Stability_var.ipynb\n",
      "18/11/2022  19:08           131.212 4.Modeling.ipynb\n",
      "18/11/2022  20:25    <DIR>          catboost_info\n",
      "               4 arquivo(s)      1.267.127 bytes\n",
      "               4 pasta(s)   342.609.620.992 bytes dispon�veis\n"
     ]
    }
   ],
   "source": [
    "if sys.platform=='win32':\n",
    "    !dir .\\\n",
    "        \n",
    "elif sys.platform=='linux':\n",
    "    !ls ./"
   ]
  },
  {
   "cell_type": "markdown",
   "metadata": {},
   "source": [
    "# Reading"
   ]
  },
  {
   "cell_type": "code",
   "execution_count": 3,
   "metadata": {},
   "outputs": [
    {
     "name": "stdout",
     "output_type": "stream",
     "text": [
      "c:\\Users\\caanp\\OneDrive\\Documents\\repositories\\ML-anti-fraud\\notebooks\n"
     ]
    }
   ],
   "source": [
    "## para saber en que directório uno se encuentra\n",
    "#\n",
    "if sys.platform=='win32':\n",
    "    !echo %cd%\n",
    "        \n",
    "elif sys.platform=='linux':\n",
    "    !pwd"
   ]
  },
  {
   "cell_type": "code",
   "execution_count": 4,
   "metadata": {},
   "outputs": [],
   "source": [
    "df = pd.read_parquet(\".\\\\..\\data\\dados_transformed.parquet\")\n",
    "df['data'] = pd.to_datetime(df['data'])"
   ]
  },
  {
   "cell_type": "code",
   "execution_count": 23,
   "metadata": {},
   "outputs": [
    {
     "data": {
      "text/html": [
       "<div>\n",
       "<style scoped>\n",
       "    .dataframe tbody tr th:only-of-type {\n",
       "        vertical-align: middle;\n",
       "    }\n",
       "\n",
       "    .dataframe tbody tr th {\n",
       "        vertical-align: top;\n",
       "    }\n",
       "\n",
       "    .dataframe thead th {\n",
       "        text-align: right;\n",
       "    }\n",
       "</style>\n",
       "<table border=\"1\" class=\"dataframe\">\n",
       "  <thead>\n",
       "    <tr style=\"text-align: right;\">\n",
       "      <th></th>\n",
       "      <th>total_um</th>\n",
       "      <th>total_zero</th>\n",
       "    </tr>\n",
       "    <tr>\n",
       "      <th>data</th>\n",
       "      <th></th>\n",
       "      <th></th>\n",
       "    </tr>\n",
       "  </thead>\n",
       "  <tbody>\n",
       "    <tr>\n",
       "      <th>2020-03-08</th>\n",
       "      <td>124</td>\n",
       "      <td>2714</td>\n",
       "    </tr>\n",
       "    <tr>\n",
       "      <th>2020-03-15</th>\n",
       "      <td>1184</td>\n",
       "      <td>23339</td>\n",
       "    </tr>\n",
       "    <tr>\n",
       "      <th>2020-03-22</th>\n",
       "      <td>1149</td>\n",
       "      <td>24050</td>\n",
       "    </tr>\n",
       "    <tr>\n",
       "      <th>2020-03-29</th>\n",
       "      <td>1142</td>\n",
       "      <td>18927</td>\n",
       "    </tr>\n",
       "    <tr>\n",
       "      <th>2020-04-05</th>\n",
       "      <td>1008</td>\n",
       "      <td>16426</td>\n",
       "    </tr>\n",
       "    <tr>\n",
       "      <th>2020-04-12</th>\n",
       "      <td>1322</td>\n",
       "      <td>23121</td>\n",
       "    </tr>\n",
       "    <tr>\n",
       "      <th>2020-04-19</th>\n",
       "      <td>1087</td>\n",
       "      <td>24245</td>\n",
       "    </tr>\n",
       "    <tr>\n",
       "      <th>2020-04-26</th>\n",
       "      <td>484</td>\n",
       "      <td>9678</td>\n",
       "    </tr>\n",
       "  </tbody>\n",
       "</table>\n",
       "</div>"
      ],
      "text/plain": [
       "            total_um  total_zero\n",
       "data                            \n",
       "2020-03-08       124        2714\n",
       "2020-03-15      1184       23339\n",
       "2020-03-22      1149       24050\n",
       "2020-03-29      1142       18927\n",
       "2020-04-05      1008       16426\n",
       "2020-04-12      1322       23121\n",
       "2020-04-19      1087       24245\n",
       "2020-04-26       484        9678"
      ]
     },
     "execution_count": 23,
     "metadata": {},
     "output_type": "execute_result"
    }
   ],
   "source": [
    "df.groupby(pd.Grouper(key='data', freq=\"W\")).agg(\n",
    "\n",
    "    total_um = (\"fraude\",lambda x: sum(x) ),\n",
    "    total_zero = (\"fraude\",lambda x: sum( (x+1)%2 ) ) \n",
    "\n",
    "\n",
    ")"
   ]
  },
  {
   "cell_type": "code",
   "execution_count": 6,
   "metadata": {},
   "outputs": [
    {
     "name": "stderr",
     "output_type": "stream",
     "text": [
      "C:\\Users\\caanp\\AppData\\Local\\Temp\\ipykernel_23904\\26454910.py:7: SettingWithCopyWarning: \n",
      "A value is trying to be set on a copy of a slice from a DataFrame.\n",
      "Try using .loc[row_indexer,col_indexer] = value instead\n",
      "\n",
      "See the caveats in the documentation: https://pandas.pydata.org/pandas-docs/stable/user_guide/indexing.html#returning-a-view-versus-a-copy\n",
      "  df_week['week'] = week\n",
      "C:\\Users\\caanp\\AppData\\Local\\Temp\\ipykernel_23904\\26454910.py:7: SettingWithCopyWarning: \n",
      "A value is trying to be set on a copy of a slice from a DataFrame.\n",
      "Try using .loc[row_indexer,col_indexer] = value instead\n",
      "\n",
      "See the caveats in the documentation: https://pandas.pydata.org/pandas-docs/stable/user_guide/indexing.html#returning-a-view-versus-a-copy\n",
      "  df_week['week'] = week\n",
      "C:\\Users\\caanp\\AppData\\Local\\Temp\\ipykernel_23904\\26454910.py:7: SettingWithCopyWarning: \n",
      "A value is trying to be set on a copy of a slice from a DataFrame.\n",
      "Try using .loc[row_indexer,col_indexer] = value instead\n",
      "\n",
      "See the caveats in the documentation: https://pandas.pydata.org/pandas-docs/stable/user_guide/indexing.html#returning-a-view-versus-a-copy\n",
      "  df_week['week'] = week\n",
      "C:\\Users\\caanp\\AppData\\Local\\Temp\\ipykernel_23904\\26454910.py:7: SettingWithCopyWarning: \n",
      "A value is trying to be set on a copy of a slice from a DataFrame.\n",
      "Try using .loc[row_indexer,col_indexer] = value instead\n",
      "\n",
      "See the caveats in the documentation: https://pandas.pydata.org/pandas-docs/stable/user_guide/indexing.html#returning-a-view-versus-a-copy\n",
      "  df_week['week'] = week\n",
      "C:\\Users\\caanp\\AppData\\Local\\Temp\\ipykernel_23904\\26454910.py:7: SettingWithCopyWarning: \n",
      "A value is trying to be set on a copy of a slice from a DataFrame.\n",
      "Try using .loc[row_indexer,col_indexer] = value instead\n",
      "\n",
      "See the caveats in the documentation: https://pandas.pydata.org/pandas-docs/stable/user_guide/indexing.html#returning-a-view-versus-a-copy\n",
      "  df_week['week'] = week\n",
      "C:\\Users\\caanp\\AppData\\Local\\Temp\\ipykernel_23904\\26454910.py:7: SettingWithCopyWarning: \n",
      "A value is trying to be set on a copy of a slice from a DataFrame.\n",
      "Try using .loc[row_indexer,col_indexer] = value instead\n",
      "\n",
      "See the caveats in the documentation: https://pandas.pydata.org/pandas-docs/stable/user_guide/indexing.html#returning-a-view-versus-a-copy\n",
      "  df_week['week'] = week\n",
      "C:\\Users\\caanp\\AppData\\Local\\Temp\\ipykernel_23904\\26454910.py:7: SettingWithCopyWarning: \n",
      "A value is trying to be set on a copy of a slice from a DataFrame.\n",
      "Try using .loc[row_indexer,col_indexer] = value instead\n",
      "\n",
      "See the caveats in the documentation: https://pandas.pydata.org/pandas-docs/stable/user_guide/indexing.html#returning-a-view-versus-a-copy\n",
      "  df_week['week'] = week\n",
      "C:\\Users\\caanp\\AppData\\Local\\Temp\\ipykernel_23904\\26454910.py:7: SettingWithCopyWarning: \n",
      "A value is trying to be set on a copy of a slice from a DataFrame.\n",
      "Try using .loc[row_indexer,col_indexer] = value instead\n",
      "\n",
      "See the caveats in the documentation: https://pandas.pydata.org/pandas-docs/stable/user_guide/indexing.html#returning-a-view-versus-a-copy\n",
      "  df_week['week'] = week\n"
     ]
    }
   ],
   "source": [
    "gb = df.groupby(pd.Grouper(key='data', freq=\"W\"))\n",
    "\n",
    "dff_with_week = []\n",
    "\n",
    "for week, df_week in gb:\n",
    "\n",
    "    df_week['week'] = week\n",
    "\n",
    "    dff_with_week.append(df_week)\n",
    "\n",
    "\n",
    "dff_week = pd.concat(dff_with_week)"
   ]
  },
  {
   "cell_type": "code",
   "execution_count": 36,
   "metadata": {},
   "outputs": [
    {
     "data": {
      "text/html": [
       "<div>\n",
       "<style scoped>\n",
       "    .dataframe tbody tr th:only-of-type {\n",
       "        vertical-align: middle;\n",
       "    }\n",
       "\n",
       "    .dataframe tbody tr th {\n",
       "        vertical-align: top;\n",
       "    }\n",
       "\n",
       "    .dataframe thead th {\n",
       "        text-align: right;\n",
       "    }\n",
       "</style>\n",
       "<table border=\"1\" class=\"dataframe\">\n",
       "  <thead>\n",
       "    <tr style=\"text-align: right;\">\n",
       "      <th></th>\n",
       "      <th>data</th>\n",
       "      <th>week</th>\n",
       "    </tr>\n",
       "  </thead>\n",
       "  <tbody>\n",
       "    <tr>\n",
       "      <th>29</th>\n",
       "      <td>2020-03-08</td>\n",
       "      <td>2020-03-08</td>\n",
       "    </tr>\n",
       "    <tr>\n",
       "      <th>126</th>\n",
       "      <td>2020-03-08</td>\n",
       "      <td>2020-03-08</td>\n",
       "    </tr>\n",
       "    <tr>\n",
       "      <th>261</th>\n",
       "      <td>2020-03-08</td>\n",
       "      <td>2020-03-08</td>\n",
       "    </tr>\n",
       "    <tr>\n",
       "      <th>351</th>\n",
       "      <td>2020-03-08</td>\n",
       "      <td>2020-03-08</td>\n",
       "    </tr>\n",
       "    <tr>\n",
       "      <th>386</th>\n",
       "      <td>2020-03-08</td>\n",
       "      <td>2020-03-08</td>\n",
       "    </tr>\n",
       "    <tr>\n",
       "      <th>...</th>\n",
       "      <td>...</td>\n",
       "      <td>...</td>\n",
       "    </tr>\n",
       "    <tr>\n",
       "      <th>149918</th>\n",
       "      <td>2020-04-21</td>\n",
       "      <td>2020-04-26</td>\n",
       "    </tr>\n",
       "    <tr>\n",
       "      <th>149944</th>\n",
       "      <td>2020-04-21</td>\n",
       "      <td>2020-04-26</td>\n",
       "    </tr>\n",
       "    <tr>\n",
       "      <th>149953</th>\n",
       "      <td>2020-04-21</td>\n",
       "      <td>2020-04-26</td>\n",
       "    </tr>\n",
       "    <tr>\n",
       "      <th>149972</th>\n",
       "      <td>2020-04-21</td>\n",
       "      <td>2020-04-26</td>\n",
       "    </tr>\n",
       "    <tr>\n",
       "      <th>149973</th>\n",
       "      <td>2020-04-21</td>\n",
       "      <td>2020-04-26</td>\n",
       "    </tr>\n",
       "  </tbody>\n",
       "</table>\n",
       "<p>150000 rows × 2 columns</p>\n",
       "</div>"
      ],
      "text/plain": [
       "             data       week\n",
       "29     2020-03-08 2020-03-08\n",
       "126    2020-03-08 2020-03-08\n",
       "261    2020-03-08 2020-03-08\n",
       "351    2020-03-08 2020-03-08\n",
       "386    2020-03-08 2020-03-08\n",
       "...           ...        ...\n",
       "149918 2020-04-21 2020-04-26\n",
       "149944 2020-04-21 2020-04-26\n",
       "149953 2020-04-21 2020-04-26\n",
       "149972 2020-04-21 2020-04-26\n",
       "149973 2020-04-21 2020-04-26\n",
       "\n",
       "[150000 rows x 2 columns]"
      ]
     },
     "execution_count": 36,
     "metadata": {},
     "output_type": "execute_result"
    }
   ],
   "source": [
    "dff_week[['data','week']]"
   ]
  },
  {
   "cell_type": "code",
   "execution_count": 14,
   "metadata": {},
   "outputs": [],
   "source": [
    "df['week'] = gb[\"data\"].transform(\"first\")"
   ]
  },
  {
   "cell_type": "code",
   "execution_count": 7,
   "metadata": {},
   "outputs": [
    {
     "data": {
      "text/html": [
       "<div>\n",
       "<style scoped>\n",
       "    .dataframe tbody tr th:only-of-type {\n",
       "        vertical-align: middle;\n",
       "    }\n",
       "\n",
       "    .dataframe tbody tr th {\n",
       "        vertical-align: top;\n",
       "    }\n",
       "\n",
       "    .dataframe thead th {\n",
       "        text-align: right;\n",
       "    }\n",
       "</style>\n",
       "<table border=\"1\" class=\"dataframe\">\n",
       "  <thead>\n",
       "    <tr style=\"text-align: right;\">\n",
       "      <th></th>\n",
       "      <th>set_data</th>\n",
       "      <th>total</th>\n",
       "      <th>total_um</th>\n",
       "      <th>total_zero</th>\n",
       "    </tr>\n",
       "    <tr>\n",
       "      <th>week</th>\n",
       "      <th></th>\n",
       "      <th></th>\n",
       "      <th></th>\n",
       "      <th></th>\n",
       "    </tr>\n",
       "  </thead>\n",
       "  <tbody>\n",
       "    <tr>\n",
       "      <th>2020-03-08</th>\n",
       "      <td>[2020-03-08T00:00:00.000000000]</td>\n",
       "      <td>1</td>\n",
       "      <td>124</td>\n",
       "      <td>2714</td>\n",
       "    </tr>\n",
       "    <tr>\n",
       "      <th>2020-03-15</th>\n",
       "      <td>[2020-03-09T00:00:00.000000000, 2020-03-10T00:...</td>\n",
       "      <td>7</td>\n",
       "      <td>1184</td>\n",
       "      <td>23339</td>\n",
       "    </tr>\n",
       "    <tr>\n",
       "      <th>2020-03-22</th>\n",
       "      <td>[2020-03-16T00:00:00.000000000, 2020-03-17T00:...</td>\n",
       "      <td>7</td>\n",
       "      <td>1149</td>\n",
       "      <td>24050</td>\n",
       "    </tr>\n",
       "    <tr>\n",
       "      <th>2020-03-29</th>\n",
       "      <td>[2020-03-23T00:00:00.000000000, 2020-03-24T00:...</td>\n",
       "      <td>7</td>\n",
       "      <td>1142</td>\n",
       "      <td>18927</td>\n",
       "    </tr>\n",
       "    <tr>\n",
       "      <th>2020-04-05</th>\n",
       "      <td>[2020-03-30T00:00:00.000000000, 2020-03-31T00:...</td>\n",
       "      <td>7</td>\n",
       "      <td>1008</td>\n",
       "      <td>16426</td>\n",
       "    </tr>\n",
       "    <tr>\n",
       "      <th>2020-04-12</th>\n",
       "      <td>[2020-04-06T00:00:00.000000000, 2020-04-07T00:...</td>\n",
       "      <td>7</td>\n",
       "      <td>1322</td>\n",
       "      <td>23121</td>\n",
       "    </tr>\n",
       "    <tr>\n",
       "      <th>2020-04-19</th>\n",
       "      <td>[2020-04-13T00:00:00.000000000, 2020-04-14T00:...</td>\n",
       "      <td>7</td>\n",
       "      <td>1087</td>\n",
       "      <td>24245</td>\n",
       "    </tr>\n",
       "    <tr>\n",
       "      <th>2020-04-26</th>\n",
       "      <td>[2020-04-20T00:00:00.000000000, 2020-04-21T00:...</td>\n",
       "      <td>2</td>\n",
       "      <td>484</td>\n",
       "      <td>9678</td>\n",
       "    </tr>\n",
       "  </tbody>\n",
       "</table>\n",
       "</div>"
      ],
      "text/plain": [
       "                                                     set_data  total  total_um  total_zero\n",
       "week                                                                                      \n",
       "2020-03-08                    [2020-03-08T00:00:00.000000000]      1       124        2714\n",
       "2020-03-15  [2020-03-09T00:00:00.000000000, 2020-03-10T00:...      7      1184       23339\n",
       "2020-03-22  [2020-03-16T00:00:00.000000000, 2020-03-17T00:...      7      1149       24050\n",
       "2020-03-29  [2020-03-23T00:00:00.000000000, 2020-03-24T00:...      7      1142       18927\n",
       "2020-04-05  [2020-03-30T00:00:00.000000000, 2020-03-31T00:...      7      1008       16426\n",
       "2020-04-12  [2020-04-06T00:00:00.000000000, 2020-04-07T00:...      7      1322       23121\n",
       "2020-04-19  [2020-04-13T00:00:00.000000000, 2020-04-14T00:...      7      1087       24245\n",
       "2020-04-26  [2020-04-20T00:00:00.000000000, 2020-04-21T00:...      2       484        9678"
      ]
     },
     "execution_count": 7,
     "metadata": {},
     "output_type": "execute_result"
    }
   ],
   "source": [
    "dff_week.groupby(\"week\").agg( \n",
    "\n",
    "    set_data = (\"data\",lambda x: list(np.unique(x)) ),\n",
    "     total = (\"data\",lambda x: len(list(np.unique(x))) ),\n",
    "     total_um = (\"fraude\",lambda x: sum(x) ),\n",
    "    total_zero = (\"fraude\",lambda x: sum( (x+1)%2 ) )\n",
    "    \n",
    "     )"
   ]
  },
  {
   "cell_type": "code",
   "execution_count": 275,
   "metadata": {},
   "outputs": [
    {
     "data": {
      "text/plain": [
       "(17, 8)"
      ]
     },
     "execution_count": 275,
     "metadata": {},
     "output_type": "execute_result"
    }
   ],
   "source": [
    "colunas_orig_and_week = utils_ml.exclude_words( dff_week.columns.tolist(), [\"cat\",\"bin\",\"WoE\",\"produto\",\"fecha\",\"data\",\"hora\",\"week\",\"fraude\"] ) + ['categoria_produto']\n",
    "# colunas_orig_and_week_bin = utils_ml.exclude_words(colunas_orig_and_week_bin , ['categoria'] ) + ['categoria_produto_cat']\n",
    "weeks = dff_week['week'].unique()\n",
    "\n",
    "len(colunas_orig_and_week), len(weeks)"
   ]
  },
  {
   "cell_type": "code",
   "execution_count": 264,
   "metadata": {},
   "outputs": [
    {
     "data": {
      "text/plain": [
       "['a_int',\n",
       " 'b_float',\n",
       " 'c_float',\n",
       " 'd_float',\n",
       " 'e_float',\n",
       " 'f_float',\n",
       " 'pais',\n",
       " 'h_float',\n",
       " 'k_float',\n",
       " 'l_float',\n",
       " 'm_float',\n",
       " 'n_boolean',\n",
       " 'o_obj',\n",
       " 'p_boolean',\n",
       " 'monto',\n",
       " 'score',\n",
       " 'categoria_produto']"
      ]
     },
     "execution_count": 264,
     "metadata": {},
     "output_type": "execute_result"
    }
   ],
   "source": [
    "colunas_orig_and_week"
   ]
  },
  {
   "cell_type": "code",
   "execution_count": 266,
   "metadata": {},
   "outputs": [
    {
     "name": "stdout",
     "output_type": "stream",
     "text": [
      "1/17 a_int\n",
      "2/17 b_float\n",
      "3/17 c_float\n",
      "4/17 d_float\n",
      "5/17 e_float\n",
      "6/17 f_float\n",
      "7/17 pais\n",
      "8/17 h_float\n",
      "9/17 k_float\n",
      "10/17 l_float\n",
      "11/17 m_float\n",
      "12/17 n_boolean\n",
      "13/17 o_obj\n",
      "14/17 p_boolean\n",
      "15/17 monto\n",
      "16/17 score\n",
      "17/17 categoria_produto\n"
     ]
    }
   ],
   "source": [
    "label = \"fraude\"\n",
    "dtype_ = 'categorical'\n",
    "df_woe_ivs_ls = []\n",
    "\n",
    "for n,variable in enumerate(colunas_orig_and_week, start=1):\n",
    "\n",
    "    print(f\"{n}/{len(colunas_orig_and_week)}\",variable)\n",
    "\n",
    "    ## carregando o modelo pretreinado de\n",
    "    optb = joblib.load(f\".\\..\\src\\\\features\\\\pipeline_binning__{variable}__.pkl\")\n",
    "\n",
    "    for week in weeks:\n",
    "\n",
    "        df_filtred = dff_week[dff_week['week']==week][[variable,label]]\n",
    "        df_filtred = utils_ml.encode_woe_var_transform(df_filtred, variable, optb )\n",
    "\n",
    "        ## computting the WOE and IV to variable transformed with _cat in the end.\n",
    "        df_iv = utils_ml.WOE_IV(df = df_filtred  , variable = f\"{variable}_bins\", dtype_ = dtype_ , label = label, monotonic= True, optimal_binning = False)\n",
    "        df_iv['week'] = week\n",
    "\n",
    "\n",
    "        df_woe_ivs_ls.append(df_iv)\n",
    "\n",
    "df_woe_ivs = pd.concat(df_woe_ivs_ls).sort_values(\"IV_var\", ascending=False)"
   ]
  },
  {
   "cell_type": "code",
   "execution_count": 274,
   "metadata": {},
   "outputs": [],
   "source": [
    "df_woe_ivs['Bin'] = df_woe_ivs['Bin'].astype(\"string\")\n",
    "df_woe_ivs.query(\"Bin!='Missing' and Bin!='Special'\").to_parquet(\".\\..\\data\\\\iv_woe_by_week.parquet\")\n",
    "\n",
    "## Data to explore in powerBI"
   ]
  },
  {
   "cell_type": "markdown",
   "metadata": {},
   "source": [
    "# Requirements"
   ]
  },
  {
   "cell_type": "code",
   "execution_count": 110,
   "metadata": {},
   "outputs": [
    {
     "name": "stderr",
     "output_type": "stream",
     "text": [
      "5697.85s - pydevd: Sending message related to process being replaced timed-out after 5 seconds\n"
     ]
    }
   ],
   "source": [
    "path_root = parameters.root\n",
    "!pip list --format=freeze > $path_root/requirements.txt"
   ]
  },
  {
   "cell_type": "code",
   "execution_count": null,
   "metadata": {},
   "outputs": [],
   "source": []
  }
 ],
 "metadata": {
  "kernelspec": {
   "display_name": "venv_ml",
   "language": "python",
   "name": "python3"
  },
  "language_info": {
   "codemirror_mode": {
    "name": "ipython",
    "version": 3
   },
   "file_extension": ".py",
   "mimetype": "text/x-python",
   "name": "python",
   "nbconvert_exporter": "python",
   "pygments_lexer": "ipython3",
   "version": "3.8.10"
  },
  "vscode": {
   "interpreter": {
    "hash": "e1fda5e8bf1bc7cde362cb1509c17f95b96f0cdb4d37fd31cb5cf3e5d26162e6"
   }
  }
 },
 "nbformat": 4,
 "nbformat_minor": 4
}
