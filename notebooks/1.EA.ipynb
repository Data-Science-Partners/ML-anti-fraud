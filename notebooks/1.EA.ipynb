{
 "cells": [
  {
   "cell_type": "markdown",
   "metadata": {},
   "source": [
    "# Lib"
   ]
  },
  {
   "cell_type": "code",
   "execution_count": 14,
   "metadata": {},
   "outputs": [],
   "source": [
    "import pandas as pd\n",
    "import numpy as np\n",
    "import seaborn as sn\n",
    "import matplotlib.pyplot as plt\n",
    "import sys\n",
    "import os\n",
    "import glob\n",
    "\n",
    "if sys.platform=='win32':\n",
    "    sys.path.insert(0,\".\\..\\src\")\n",
    "        \n",
    "elif sys.platform=='linux':\n",
    "    sys.path.insert(0,\"./../src\")\n",
    "\n",
    "import utils.utils_ml as ut"
   ]
  },
  {
   "cell_type": "code",
   "execution_count": 8,
   "metadata": {},
   "outputs": [
    {
     "name": "stdout",
     "output_type": "stream",
     "text": [
      " O volume na unidade C � OS\n",
      " O N�mero de S�rie do Volume � C498-8BF5\n",
      "\n",
      " Pasta de c:\\Users\\caanp\\Documents\\repositories\\ML-anti-fraud\\notebooks\n",
      "\n",
      "10/09/2022  23:30    <DIR>          .\n",
      "11/09/2022  00:15    <DIR>          ..\n",
      "10/09/2022  23:28    <DIR>          .ipynb_checkpoints\n",
      "11/09/2022  00:23            23.363 1.EA.ipynb\n",
      "               1 arquivo(s)         23.363 bytes\n",
      "               3 pasta(s)   403.555.459.072 bytes dispon�veis\n"
     ]
    }
   ],
   "source": [
    "if sys.platform=='win32':\n",
    "    !dir .\\\n",
    "        \n",
    "elif sys.platform=='linux':\n",
    "    !ls ./"
   ]
  },
  {
   "cell_type": "code",
   "execution_count": 9,
   "metadata": {},
   "outputs": [
    {
     "name": "stdout",
     "output_type": "stream",
     "text": [
      " O volume na unidade C � OS\n",
      " O N�mero de S�rie do Volume � C498-8BF5\n",
      "\n",
      " Pasta de c:\\Users\\caanp\\Documents\\repositories\\ML-anti-fraud\\src\n",
      "\n",
      "11/09/2022  00:34    <DIR>          .\n",
      "11/09/2022  00:15    <DIR>          ..\n",
      "11/09/2022  00:39    <DIR>          utils\n",
      "11/09/2022  00:21    <DIR>          __pycache__\n",
      "               0 arquivo(s)              0 bytes\n",
      "               4 pasta(s)   403.555.459.072 bytes dispon�veis\n"
     ]
    }
   ],
   "source": [
    "!dir .\\..\\src"
   ]
  },
  {
   "cell_type": "markdown",
   "metadata": {},
   "source": [
    "# Reading"
   ]
  },
  {
   "cell_type": "code",
   "execution_count": 10,
   "metadata": {},
   "outputs": [
    {
     "name": "stdout",
     "output_type": "stream",
     "text": [
      "c:\\Users\\caanp\\Documents\\repositories\\ML-anti-fraud\\notebooks\n"
     ]
    }
   ],
   "source": [
    "## para saber en que directório uno se encuentra\n",
    "#\n",
    "if sys.platform=='win32':\n",
    "    !echo %cd%\n",
    "        \n",
    "elif sys.platform=='linux':\n",
    "    !pwd"
   ]
  },
  {
   "cell_type": "code",
   "execution_count": 11,
   "metadata": {},
   "outputs": [],
   "source": [
    "if sys.platform=='win32':\n",
    "    df = pd.read_csv('.\\..\\data\\dados.csv')\n",
    "        \n",
    "elif sys.platform=='linux':\n",
    "    df = pd.read_csv('./../data/dados.csv')"
   ]
  },
  {
   "cell_type": "markdown",
   "metadata": {},
   "source": [
    "# EA"
   ]
  },
  {
   "cell_type": "code",
   "execution_count": 15,
   "metadata": {},
   "outputs": [
    {
     "data": {
      "text/html": [
       "<div>\n",
       "<style scoped>\n",
       "    .dataframe tbody tr th:only-of-type {\n",
       "        vertical-align: middle;\n",
       "    }\n",
       "\n",
       "    .dataframe tbody tr th {\n",
       "        vertical-align: top;\n",
       "    }\n",
       "\n",
       "    .dataframe thead th {\n",
       "        text-align: right;\n",
       "    }\n",
       "</style>\n",
       "<table border=\"1\" class=\"dataframe\">\n",
       "  <thead>\n",
       "    <tr style=\"text-align: right;\">\n",
       "      <th></th>\n",
       "      <th>Column</th>\n",
       "      <th>size MB</th>\n",
       "      <th>Type</th>\n",
       "      <th>T_rows</th>\n",
       "      <th>Cardinality</th>\n",
       "      <th>T_missing</th>\n",
       "      <th>T_zeros</th>\n",
       "      <th>%_missing</th>\n",
       "      <th>%_zeros</th>\n",
       "    </tr>\n",
       "  </thead>\n",
       "  <tbody>\n",
       "    <tr>\n",
       "      <th>0</th>\n",
       "      <td>a</td>\n",
       "      <td>1.14</td>\n",
       "      <td>int64</td>\n",
       "      <td>150000</td>\n",
       "      <td>4</td>\n",
       "      <td>0</td>\n",
       "      <td>0</td>\n",
       "      <td>0.000</td>\n",
       "      <td>0.000</td>\n",
       "    </tr>\n",
       "    <tr>\n",
       "      <th>1</th>\n",
       "      <td>b</td>\n",
       "      <td>1.14</td>\n",
       "      <td>float64</td>\n",
       "      <td>150000</td>\n",
       "      <td>7672</td>\n",
       "      <td>12984</td>\n",
       "      <td>472</td>\n",
       "      <td>8.656</td>\n",
       "      <td>0.315</td>\n",
       "    </tr>\n",
       "    <tr>\n",
       "      <th>2</th>\n",
       "      <td>c</td>\n",
       "      <td>1.14</td>\n",
       "      <td>float64</td>\n",
       "      <td>150000</td>\n",
       "      <td>135090</td>\n",
       "      <td>12984</td>\n",
       "      <td>0</td>\n",
       "      <td>8.656</td>\n",
       "      <td>0.000</td>\n",
       "    </tr>\n",
       "    <tr>\n",
       "      <th>3</th>\n",
       "      <td>d</td>\n",
       "      <td>1.14</td>\n",
       "      <td>float64</td>\n",
       "      <td>150000</td>\n",
       "      <td>51</td>\n",
       "      <td>365</td>\n",
       "      <td>786</td>\n",
       "      <td>0.243</td>\n",
       "      <td>0.524</td>\n",
       "    </tr>\n",
       "    <tr>\n",
       "      <th>4</th>\n",
       "      <td>e</td>\n",
       "      <td>1.14</td>\n",
       "      <td>float64</td>\n",
       "      <td>150000</td>\n",
       "      <td>43208</td>\n",
       "      <td>0</td>\n",
       "      <td>65055</td>\n",
       "      <td>0.000</td>\n",
       "      <td>43.370</td>\n",
       "    </tr>\n",
       "    <tr>\n",
       "      <th>5</th>\n",
       "      <td>f</td>\n",
       "      <td>1.14</td>\n",
       "      <td>float64</td>\n",
       "      <td>150000</td>\n",
       "      <td>1338</td>\n",
       "      <td>11</td>\n",
       "      <td>25390</td>\n",
       "      <td>0.007</td>\n",
       "      <td>16.927</td>\n",
       "    </tr>\n",
       "    <tr>\n",
       "      <th>6</th>\n",
       "      <td>g</td>\n",
       "      <td>8.44</td>\n",
       "      <td>object</td>\n",
       "      <td>150000</td>\n",
       "      <td>51</td>\n",
       "      <td>194</td>\n",
       "      <td>0</td>\n",
       "      <td>0.129</td>\n",
       "      <td>0.000</td>\n",
       "    </tr>\n",
       "    <tr>\n",
       "      <th>7</th>\n",
       "      <td>h</td>\n",
       "      <td>1.14</td>\n",
       "      <td>int64</td>\n",
       "      <td>150000</td>\n",
       "      <td>59</td>\n",
       "      <td>0</td>\n",
       "      <td>0</td>\n",
       "      <td>0.000</td>\n",
       "      <td>0.000</td>\n",
       "    </tr>\n",
       "    <tr>\n",
       "      <th>8</th>\n",
       "      <td>i</td>\n",
       "      <td>20.95</td>\n",
       "      <td>object</td>\n",
       "      <td>150000</td>\n",
       "      <td>127804</td>\n",
       "      <td>0</td>\n",
       "      <td>0</td>\n",
       "      <td>0.000</td>\n",
       "      <td>0.000</td>\n",
       "    </tr>\n",
       "    <tr>\n",
       "      <th>9</th>\n",
       "      <td>j</td>\n",
       "      <td>9.73</td>\n",
       "      <td>object</td>\n",
       "      <td>150000</td>\n",
       "      <td>8324</td>\n",
       "      <td>0</td>\n",
       "      <td>0</td>\n",
       "      <td>0.000</td>\n",
       "      <td>0.000</td>\n",
       "    </tr>\n",
       "    <tr>\n",
       "      <th>10</th>\n",
       "      <td>k</td>\n",
       "      <td>1.14</td>\n",
       "      <td>float64</td>\n",
       "      <td>150000</td>\n",
       "      <td>150000</td>\n",
       "      <td>0</td>\n",
       "      <td>0</td>\n",
       "      <td>0.000</td>\n",
       "      <td>0.000</td>\n",
       "    </tr>\n",
       "    <tr>\n",
       "      <th>11</th>\n",
       "      <td>l</td>\n",
       "      <td>1.14</td>\n",
       "      <td>float64</td>\n",
       "      <td>150000</td>\n",
       "      <td>7297</td>\n",
       "      <td>11</td>\n",
       "      <td>2030</td>\n",
       "      <td>0.007</td>\n",
       "      <td>1.353</td>\n",
       "    </tr>\n",
       "    <tr>\n",
       "      <th>12</th>\n",
       "      <td>m</td>\n",
       "      <td>1.14</td>\n",
       "      <td>float64</td>\n",
       "      <td>150000</td>\n",
       "      <td>1793</td>\n",
       "      <td>365</td>\n",
       "      <td>15898</td>\n",
       "      <td>0.243</td>\n",
       "      <td>10.599</td>\n",
       "    </tr>\n",
       "    <tr>\n",
       "      <th>13</th>\n",
       "      <td>n</td>\n",
       "      <td>1.14</td>\n",
       "      <td>int64</td>\n",
       "      <td>150000</td>\n",
       "      <td>2</td>\n",
       "      <td>0</td>\n",
       "      <td>0</td>\n",
       "      <td>0.000</td>\n",
       "      <td>0.000</td>\n",
       "    </tr>\n",
       "    <tr>\n",
       "      <th>14</th>\n",
       "      <td>o</td>\n",
       "      <td>5.60</td>\n",
       "      <td>object</td>\n",
       "      <td>150000</td>\n",
       "      <td>2</td>\n",
       "      <td>108857</td>\n",
       "      <td>0</td>\n",
       "      <td>72.571</td>\n",
       "      <td>0.000</td>\n",
       "    </tr>\n",
       "    <tr>\n",
       "      <th>15</th>\n",
       "      <td>p</td>\n",
       "      <td>8.30</td>\n",
       "      <td>object</td>\n",
       "      <td>150000</td>\n",
       "      <td>2</td>\n",
       "      <td>0</td>\n",
       "      <td>0</td>\n",
       "      <td>0.000</td>\n",
       "      <td>0.000</td>\n",
       "    </tr>\n",
       "    <tr>\n",
       "      <th>16</th>\n",
       "      <td>fecha</td>\n",
       "      <td>10.87</td>\n",
       "      <td>object</td>\n",
       "      <td>150000</td>\n",
       "      <td>145813</td>\n",
       "      <td>0</td>\n",
       "      <td>0</td>\n",
       "      <td>0.000</td>\n",
       "      <td>0.000</td>\n",
       "    </tr>\n",
       "    <tr>\n",
       "      <th>17</th>\n",
       "      <td>monto</td>\n",
       "      <td>1.14</td>\n",
       "      <td>float64</td>\n",
       "      <td>150000</td>\n",
       "      <td>17831</td>\n",
       "      <td>0</td>\n",
       "      <td>0</td>\n",
       "      <td>0.000</td>\n",
       "      <td>0.000</td>\n",
       "    </tr>\n",
       "    <tr>\n",
       "      <th>18</th>\n",
       "      <td>score</td>\n",
       "      <td>1.14</td>\n",
       "      <td>int64</td>\n",
       "      <td>150000</td>\n",
       "      <td>101</td>\n",
       "      <td>0</td>\n",
       "      <td>0</td>\n",
       "      <td>0.000</td>\n",
       "      <td>0.000</td>\n",
       "    </tr>\n",
       "    <tr>\n",
       "      <th>19</th>\n",
       "      <td>fraude</td>\n",
       "      <td>1.14</td>\n",
       "      <td>int64</td>\n",
       "      <td>150000</td>\n",
       "      <td>2</td>\n",
       "      <td>0</td>\n",
       "      <td>0</td>\n",
       "      <td>0.000</td>\n",
       "      <td>0.000</td>\n",
       "    </tr>\n",
       "  </tbody>\n",
       "</table>\n",
       "</div>"
      ],
      "text/plain": [
       "    Column  size MB     Type  T_rows  Cardinality  T_missing  T_zeros  \\\n",
       "0        a     1.14    int64  150000            4          0        0   \n",
       "1        b     1.14  float64  150000         7672      12984      472   \n",
       "2        c     1.14  float64  150000       135090      12984        0   \n",
       "3        d     1.14  float64  150000           51        365      786   \n",
       "4        e     1.14  float64  150000        43208          0    65055   \n",
       "5        f     1.14  float64  150000         1338         11    25390   \n",
       "6        g     8.44   object  150000           51        194        0   \n",
       "7        h     1.14    int64  150000           59          0        0   \n",
       "8        i    20.95   object  150000       127804          0        0   \n",
       "9        j     9.73   object  150000         8324          0        0   \n",
       "10       k     1.14  float64  150000       150000          0        0   \n",
       "11       l     1.14  float64  150000         7297         11     2030   \n",
       "12       m     1.14  float64  150000         1793        365    15898   \n",
       "13       n     1.14    int64  150000            2          0        0   \n",
       "14       o     5.60   object  150000            2     108857        0   \n",
       "15       p     8.30   object  150000            2          0        0   \n",
       "16   fecha    10.87   object  150000       145813          0        0   \n",
       "17   monto     1.14  float64  150000        17831          0        0   \n",
       "18   score     1.14    int64  150000          101          0        0   \n",
       "19  fraude     1.14    int64  150000            2          0        0   \n",
       "\n",
       "    %_missing  %_zeros  \n",
       "0       0.000    0.000  \n",
       "1       8.656    0.315  \n",
       "2       8.656    0.000  \n",
       "3       0.243    0.524  \n",
       "4       0.000   43.370  \n",
       "5       0.007   16.927  \n",
       "6       0.129    0.000  \n",
       "7       0.000    0.000  \n",
       "8       0.000    0.000  \n",
       "9       0.000    0.000  \n",
       "10      0.000    0.000  \n",
       "11      0.007    1.353  \n",
       "12      0.243   10.599  \n",
       "13      0.000    0.000  \n",
       "14     72.571    0.000  \n",
       "15      0.000    0.000  \n",
       "16      0.000    0.000  \n",
       "17      0.000    0.000  \n",
       "18      0.000    0.000  \n",
       "19      0.000    0.000  "
      ]
     },
     "execution_count": 15,
     "metadata": {},
     "output_type": "execute_result"
    }
   ],
   "source": [
    "ut.missing_zeros(df)"
   ]
  },
  {
   "cell_type": "code",
   "execution_count": 154,
   "metadata": {},
   "outputs": [
    {
     "ename": "SyntaxError",
     "evalue": "unmatched ')' (4146889301.py, line 1)",
     "output_type": "error",
     "traceback": [
      "\u001b[1;36m  Cell \u001b[1;32mIn [154], line 1\u001b[1;36m\u001b[0m\n\u001b[1;33m    )df.loc[df['fraude']==1,'score'].plot(kind='hist', bins=100)\u001b[0m\n\u001b[1;37m    ^\u001b[0m\n\u001b[1;31mSyntaxError\u001b[0m\u001b[1;31m:\u001b[0m unmatched ')'\n"
     ]
    }
   ],
   "source": [
    "df.loc[df['fraude']==1,'score'].plot(kind='hist', bins=100)"
   ]
  },
  {
   "cell_type": "code",
   "execution_count": 75,
   "metadata": {},
   "outputs": [
    {
     "data": {
      "text/plain": [
       "<AxesSubplot:ylabel='Frequency'>"
      ]
     },
     "execution_count": 75,
     "metadata": {},
     "output_type": "execute_result"
    },
    {
     "data": {
      "image/png": "[encoded data removed]",
      "text/plain": [
       "<Figure size 432x288 with 1 Axes>"
      ]
     },
     "metadata": {
      "needs_background": "light"
     },
     "output_type": "display_data"
    }
   ],
   "source": [
    "df.loc[df['fraude']==0,'score'].plot(kind='hist', bins=100)"
   ]
  },
  {
   "cell_type": "code",
   "execution_count": null,
   "metadata": {},
   "outputs": [],
   "source": []
  }
 ],
 "metadata": {
  "kernelspec": {
   "display_name": "Python 3 (ipykernel)",
   "language": "python",
   "name": "python3"
  },
  "language_info": {
   "codemirror_mode": {
    "name": "ipython",
    "version": 3
   },
   "file_extension": ".py",
   "mimetype": "text/x-python",
   "name": "python",
   "nbconvert_exporter": "python",
   "pygments_lexer": "ipython3",
   "version": "3.8.10"
  },
  "vscode": {
   "interpreter": {
    "hash": "e1fda5e8bf1bc7cde362cb1509c17f95b96f0cdb4d37fd31cb5cf3e5d26162e6"
   }
  }
 },
 "nbformat": 4,
 "nbformat_minor": 4
}
