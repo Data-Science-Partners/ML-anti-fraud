{
 "cells": [
  {
   "cell_type": "markdown",
   "metadata": {},
   "source": [
    "# Lib"
   ]
  },
  {
   "cell_type": "code",
   "execution_count": 10,
   "metadata": {},
   "outputs": [
    {
     "name": "stdout",
     "output_type": "stream",
     "text": [
      "The autoreload extension is already loaded. To reload it, use:\n",
      "  %reload_ext autoreload\n"
     ]
    }
   ],
   "source": [
    "%load_ext autoreload\n",
    "%autoreload 2\n",
    "\n",
    "import pandas as pd\n",
    "\n",
    "import warnings\n",
    "\n",
    "## ignore warning log in pandas\n",
    "from pandas.core.common import SettingWithCopyWarning\n",
    "warnings.simplefilter(action=\"ignore\", category=SettingWithCopyWarning)\n",
    "\n",
    "pd.set_option('display.max_rows', 500)\n",
    "pd.set_option('display.max_columns', 500)\n",
    "pd.set_option('display.width', 10000)\n",
    "\n",
    "\n",
    "import numpy as np\n",
    "import seaborn as sns\n",
    "import matplotlib.pyplot as plt\n",
    "import joblib\n",
    "import sys\n",
    "\n",
    "if sys.platform=='win32':\n",
    "    sys.path.insert(0,\".\\..\\src\")\n",
    "        \n",
    "elif sys.platform=='linux':\n",
    "    sys.path.insert(0,\"./../src\")\n",
    "\n",
    "from utils import utils_ml, parameters, metrics_evaluation, Pipeline_functions\n",
    "\n",
    "\n",
    "from ipywidgets import interact"
   ]
  },
  {
   "cell_type": "code",
   "execution_count": 11,
   "metadata": {},
   "outputs": [
    {
     "name": "stdout",
     "output_type": "stream",
     "text": [
      " O volume na unidade C � OS\n",
      " O N�mero de S�rie do Volume � C498-8BF5\n",
      "\n",
      " Pasta de c:\\Users\\caanp\\OneDrive\\Documents\\repositories\\ML-anti-fraud\\notebooks\n",
      "\n",
      "29/11/2022  02:35    <DIR>          .\n",
      "23/11/2022  00:25    <DIR>          ..\n",
      "10/09/2022  23:28    <DIR>          .ipynb_checkpoints\n",
      "29/11/2022  02:35         1.008.994 1.EA.ipynb\n",
      "25/11/2022  01:27            74.828 2.Feature_engineering.ipynb\n",
      "29/11/2022  03:09            28.642 3.Stability_var.ipynb\n",
      "05/12/2022  21:04           183.628 4.Modeling.ipynb\n",
      "10/12/2022  16:10            65.343 5.Modelo_analisis_negocio.ipynb\n",
      "04/12/2022  17:40           167.928 6.Pipeline.ipynb\n",
      "25/11/2022  01:32           156.224 7.Pipeline_SPARK.ipynb\n",
      "24/11/2022  23:44    <DIR>          catboost_info\n",
      "               7 arquivo(s)      1.685.587 bytes\n",
      "               4 pasta(s)   361.546.559.488 bytes dispon�veis\n"
     ]
    }
   ],
   "source": [
    "if sys.platform=='win32':\n",
    "    !dir .\\\n",
    "        \n",
    "elif sys.platform=='linux':\n",
    "    !ls ./"
   ]
  },
  {
   "cell_type": "markdown",
   "metadata": {},
   "source": [
    "# Reading"
   ]
  },
  {
   "cell_type": "code",
   "execution_count": 12,
   "metadata": {},
   "outputs": [
    {
     "name": "stdout",
     "output_type": "stream",
     "text": [
      "c:\\Users\\caanp\\OneDrive\\Documents\\repositories\\ML-anti-fraud\\notebooks\n"
     ]
    }
   ],
   "source": [
    "## para saber en que directório uno se encuentra\n",
    "#\n",
    "if sys.platform=='win32':\n",
    "    !echo %cd%\n",
    "        \n",
    "elif sys.platform=='linux':\n",
    "    !pwd"
   ]
  },
  {
   "cell_type": "code",
   "execution_count": 13,
   "metadata": {},
   "outputs": [
    {
     "name": "stdout",
     "output_type": "stream",
     "text": [
      " O volume na unidade C � OS\n",
      " O N�mero de S�rie do Volume � C498-8BF5\n",
      "\n",
      " Pasta de c:\\Users\\caanp\\OneDrive\\Documents\\repositories\\ML-anti-fraud\\data\n",
      "\n",
      "04/12/2022  11:04    <DIR>          .\n",
      "23/11/2022  00:25    <DIR>          ..\n",
      "04/12/2022  11:04            24.658 cat_dataset.csv\n",
      "10/08/2021  12:08        26.677.890 dados.csv\n",
      "28/11/2022  00:10        14.104.434 dataset_structed.parquet\n",
      "28/11/2022  00:05        27.547.133 EA.pbix\n",
      "22/11/2022  22:34            39.018 iv_woe_by_week.parquet\n",
      "09/11/2022  10:35            54.091 MySQL_localhost_connection.pbix\n",
      "05/12/2022  19:33         3.891.056 test_dataset.parquet\n",
      "05/12/2022  19:33         8.711.592 train_dataset.parquet\n",
      "05/12/2022  19:33        14.493.356 train_test_dataset_tranformed.parquet\n",
      "05/12/2022  19:33         2.094.822 validation_dataset.parquet\n",
      "              10 arquivo(s)     97.638.050 bytes\n",
      "               2 pasta(s)   361.546.559.488 bytes dispon�veis\n"
     ]
    }
   ],
   "source": [
    "!dir .\\\\..\\data"
   ]
  },
  {
   "cell_type": "code",
   "execution_count": 14,
   "metadata": {},
   "outputs": [],
   "source": [
    "df_origin = pd.read_parquet(f\"{parameters.data_path}\\\\dataset_structed.parquet\")"
   ]
  },
  {
   "cell_type": "code",
   "execution_count": 15,
   "metadata": {},
   "outputs": [],
   "source": [
    "scores = [x for x in range(0,101)]"
   ]
  },
  {
   "cell_type": "markdown",
   "metadata": {},
   "source": [
    "## 6. Cost Matrix and confusion Matrix\n",
    "\n",
    "- Queremos encontrar o ponto de corte ideal para o modelo já treinado\n",
    "apresentado na parte (Score, onde 0 (zero) é o risco mais baixo e 100 (cem) o\n",
    "mais alto). Sabemos que MELI ganha 10% do valor de um pagamento\n",
    "aprovado corretamente e a cada fraude aprovada perdemos 100% do valor do\n",
    "pagamento.Defina o ponto de corte que maximize os lucros do MELI, de\n",
    "forma que todos os pagamentos com menor Score sejam aprovados e os\n",
    "maiores sejam rejeitados.\n",
    "\n",
    "    -  Além da matriz de confusão, uma matriz associada as vendas dado as predições feitas pelo modelo\n",
    "    que resultaram ou não em fraude.\n",
    "\n",
    "        - Para a matriz de **confusão** foram selecionadas as métricas:\n",
    "\n",
    "        \\begin{align*}\n",
    "        Recall =​ \\frac{​TP​​}{TP+FN}​​, && && FPR = \\frac{FP}{TP+FP} \\\\\n",
    "        \\end{align*}\n",
    "\n",
    "        - Para a matriz de **custo** foi criada a métrica:\n",
    "\n",
    "            Custo     | PRED 0         | PRED 1\n",
    "            --------- | ------         | ------\n",
    "            Real 0    | gain           | lost by bloq\n",
    "            Real 1    | lost by fraud  | Fraud (No lost)\n",
    "           \n",
    "\n",
    "        \\begin{align*}\n",
    "        &Ganho\\_sem\\_bloq =​ 0.1*gain-lost\\_by\\_fraud \\\\\n",
    "        &Ganho\\_com\\_bloq =​ 0.1*gain-(lost\\_by\\_fraud+0.1*lost\\_by\\_bloq) \\\\\n",
    "        \\\\\n",
    "        &gain:= \\text{ Ganhos por acertos do modelo nas campras que não foram fraude. (TN ticket) } \\\\\n",
    "        &lost\\_by\\_fraud:= \\text{ Perdas por o modelo não acertar as compras que foram fraude. (FN ticket)} \\\\\n",
    "        &lost\\_by\\_bloq:=\\text{ Perdas por ter bloqueado a compra dado que era uma compra legítima. (FP ticket)}\n",
    "        \\end{align*}\n",
    "        \n",
    "        O ponto de corte que maximiza os ganhos do MELI é definido com aquele ponto onde as métricas de \"Ganho\" tenham um máximo absoluto.\n",
    "\n",
    "        Para a métrica de $Ganho\\_com\\_bloq$, que inclue no cálculo da perda de oportunidade daqueles pedidos que eram legítimos mas que foram bloqueados, o ponto de corte encontra-se em 86.\n",
    "\n",
    "        Para a métrica de $Ganho\\_com\\_bloq$, que não inclue no cálculo da perda de oportunidade daqueles pedidos que eram legítimos mas que foram bloqueados, o ponto de corte encontra-se em 76.\n",
    "\n"
   ]
  },
  {
   "cell_type": "code",
   "execution_count": 56,
   "metadata": {},
   "outputs": [
    {
     "data": {
      "application/vnd.jupyter.widget-view+json": {
       "model_id": "4b7b3f010dd5412cbce063c8d7a527e1",
       "version_major": 2,
       "version_minor": 0
      },
      "text/plain": [
       "interactive(children=(IntSlider(value=50, description='score'), Dropdown(description='option', options=(False,…"
      ]
     },
     "metadata": {},
     "output_type": "display_data"
    }
   ],
   "source": [
    "@interact\n",
    "\n",
    "def slice_score_in_matrix_confusion(score = (0,100), option = [False, True]):\n",
    "\n",
    "\n",
    "    confusion_matrix, confusion_matrix_monto = metrics_evaluation.cross_tab_matrices(df_origin, cutoff= score, total = option)\n",
    "\n",
    "    ######################### Métricas ##################################################\n",
    "    TP, FP, TN, FN, P, N = metrics_evaluation.confusion_matrix_2_TP_FP_TN_FN( confusion_matrix, total = option  )\n",
    "    gain, lost_by_bloq, lost_by_fraud, success_by_fraud, total_sell = metrics_evaluation.confusion_matrix_2_bussines(confusion_matrix_monto, total = option)\n",
    "\n",
    "    Recall = TP/P\n",
    "    FPR = FP/(FP+TP)\n",
    "\n",
    "\n",
    "    ganho_com_bloq = (0.1*gain-lost_by_fraud-0.1*lost_by_bloq)\n",
    "    ganho_sem_bloq = (0.1*gain-lost_by_fraud)\n",
    "\n",
    "\n",
    "    print(\"\\n\\n\",\"========================== Confusion Matrix =======================================\")\n",
    "    display( confusion_matrix )\n",
    "\n",
    "\n",
    "    print(\"Total fraudes: \", P)\n",
    "    print(\"Total Não fraudes: \", N)\n",
    "    print(\"\\n\\n\")\n",
    "    print(\"Recall: \", Recall)\n",
    "    print(\"FPR: \", FPR)\n",
    "\n",
    "\n",
    "    print(\"\\n\\n\",\"========================== Ticket confusion Matrix =======================================\")\n",
    "    display( confusion_matrix_monto  )\n",
    "\n",
    "    print(\"Total vendido: \", total_sell)\n",
    "    print(\"\\n\\n\")\n",
    "    print(\"ganho_com_bloq: \", ganho_com_bloq)\n",
    "    print(\"ganho_sem_bloq: \", ganho_sem_bloq)\n"
   ]
  },
  {
   "cell_type": "markdown",
   "metadata": {},
   "source": [
    "# PLOT"
   ]
  },
  {
   "cell_type": "code",
   "execution_count": 31,
   "metadata": {},
   "outputs": [],
   "source": [
    "dic_gain = {\"score\":[], \"TP\":[], \"FP\":[], \"TN\":[], \"FN\":[],\"P\":[], \"N\":[],\n",
    "             \"gain\":[],\"lost_by_bloq\":[], \"lost_by_fraud\":[], \"success_by_fraud\":[],\"total_sell\":[],\n",
    "             \"Recall\":[], \"FPR\":[],\n",
    "             \"ganho_com_bloq\":[], \"ganho_sem_bloq\":[]}\n",
    "\n",
    "for score in range(0,101):\n",
    "\n",
    "    TP, FP, TN, FN, P, N,\\\n",
    "    gain, lost_by_bloq, lost_by_fraud, success_by_fraud, total_sell,\\\n",
    "    Recall, FPR, ganho_com_bloq, ganho_sem_bloq = metrics_evaluation.gain_value( df = df_origin, score = score )\n",
    "\n",
    "    dic_gain[\"score\"].append(score)\n",
    "\n",
    "    dic_gain[\"TP\"].append(TP)\n",
    "    dic_gain[\"FP\"].append(FP)\n",
    "    dic_gain[\"TN\"].append(TN)\n",
    "    dic_gain[\"FN\"].append(FN)\n",
    "    dic_gain[\"P\"].append(P)\n",
    "    dic_gain[\"N\"].append(N)\n",
    "\n",
    "    dic_gain[\"gain\"].append(gain)\n",
    "    dic_gain[\"lost_by_bloq\"].append(lost_by_bloq)\n",
    "    dic_gain[\"lost_by_fraud\"].append(lost_by_fraud)\n",
    "    dic_gain[\"success_by_fraud\"].append(success_by_fraud)\n",
    "    dic_gain[\"total_sell\"].append(total_sell)\n",
    "\n",
    "    ## Métricas de modelo\n",
    "    dic_gain[\"Recall\"].append( Recall )\n",
    "    dic_gain[\"FPR\"].append(FPR)\n",
    "\n",
    "    ## Métricas de negócio\n",
    "    dic_gain[\"ganho_com_bloq\"].append(ganho_com_bloq)\n",
    "    dic_gain[\"ganho_sem_bloq\"].append(ganho_sem_bloq)\n"
   ]
  },
  {
   "cell_type": "code",
   "execution_count": 47,
   "metadata": {},
   "outputs": [
    {
     "name": "stdout",
     "output_type": "stream",
     "text": [
      " O volume na unidade C � OS\n",
      " O N�mero de S�rie do Volume � C498-8BF5\n",
      "\n",
      " Pasta de c:\\Users\\caanp\\OneDrive\\Documents\\repositories\\ML-anti-fraud\\data\n",
      "\n",
      "04/12/2022  11:04    <DIR>          .\n",
      "23/11/2022  00:25    <DIR>          ..\n",
      "04/12/2022  11:04            24.658 cat_dataset.csv\n",
      "10/08/2021  12:08        26.677.890 dados.csv\n",
      "28/11/2022  00:10        14.104.434 dataset_structed.parquet\n",
      "28/11/2022  00:05        27.547.133 EA.pbix\n",
      "22/11/2022  22:34            39.018 iv_woe_by_week.parquet\n",
      "09/11/2022  10:35            54.091 MySQL_localhost_connection.pbix\n",
      "05/12/2022  19:33         3.891.056 test_dataset.parquet\n",
      "05/12/2022  19:33         8.711.592 train_dataset.parquet\n",
      "05/12/2022  19:33        14.493.356 train_test_dataset_tranformed.parquet\n",
      "05/12/2022  19:33         2.094.822 validation_dataset.parquet\n",
      "              10 arquivo(s)     97.638.050 bytes\n",
      "               2 pasta(s)   361.356.763.136 bytes dispon�veis\n"
     ]
    }
   ],
   "source": [
    "!dir .\\..\\\\data"
   ]
  },
  {
   "cell_type": "code",
   "execution_count": 54,
   "metadata": {},
   "outputs": [
    {
     "data": {
      "text/plain": [
       "'c:\\\\Users\\\\caanp\\\\OneDrive\\\\Documents\\\\repositories\\\\ML-anti-fraud\\\\data\\\\gain.parquet'"
      ]
     },
     "execution_count": 54,
     "metadata": {},
     "output_type": "execute_result"
    }
   ],
   "source": []
  },
  {
   "cell_type": "code",
   "execution_count": 55,
   "metadata": {},
   "outputs": [],
   "source": [
    "df_gain = pd.DataFrame(dic_gain)\n",
    "\n",
    "path_save = os.path.join(parameters.data_path,\"cutoff.parquet\")\n",
    "df_gain.to_parquet(path_save, index=False)\n",
    "# df_gain"
   ]
  },
  {
   "cell_type": "code",
   "execution_count": 41,
   "metadata": {},
   "outputs": [
    {
     "data": {
      "application/vnd.plotly.v1+json": {
       "config": {
        "plotlyServerURL": "https://plot.ly"
       },
       "data": [
        {
         "hovertemplate": "variable=ganho_com_bloq<br>score=%{x}<br>value=%{y}<extra></extra>",
         "legendgroup": "ganho_com_bloq",
         "line": {
          "color": "#636efa",
          "dash": "solid"
         },
         "marker": {
          "symbol": "circle"
         },
         "mode": "lines",
         "name": "ganho_com_bloq",
         "orientation": "v",
         "showlegend": true,
         "type": "scatter",
         "x": [
          0,
          1,
          2,
          3,
          4,
          5,
          6,
          7,
          8,
          9,
          10,
          11,
          12,
          13,
          14,
          15,
          16,
          17,
          18,
          19,
          20,
          21,
          22,
          23,
          24,
          25,
          26,
          27,
          28,
          29,
          30,
          31,
          32,
          33,
          34,
          35,
          36,
          37,
          38,
          39,
          40,
          41,
          42,
          43,
          44,
          45,
          46,
          47,
          48,
          49,
          50,
          51,
          52,
          53,
          54,
          55,
          56,
          57,
          58,
          59,
          60,
          61,
          62,
          63,
          64,
          65,
          66,
          67,
          68,
          69,
          70,
          71,
          72,
          73,
          74,
          75,
          76,
          77,
          78,
          79,
          80,
          81,
          82,
          83,
          84,
          85,
          86,
          87,
          88,
          89,
          90,
          91,
          92,
          93,
          94,
          95,
          96,
          97,
          98,
          99,
          100
         ],
         "xaxis": "x",
         "y": [
          -598119.9,
          -569830.2500000001,
          -563366.6960000001,
          -557785.8080000001,
          -551194.1660000001,
          -541799.044,
          -531755.462,
          -526921.244,
          -517019.138,
          -507841.08,
          -500111.1,
          -493083.5820000001,
          -486392.46200000006,
          -478360.46199999994,
          -471178.98800000007,
          -464974.012,
          -460229.156,
          -451741.17000000004,
          -443767.258,
          -438189.15,
          -430656.666,
          -423283.426,
          -415787.90800000005,
          -412688.228,
          -405214.34400000004,
          -400488.676,
          -391958.664,
          -385606.65799999994,
          -374795.452,
          -363742.926,
          -352472.79800000007,
          -340840.912,
          -329476.58,
          -319356.866,
          -308710.51,
          -297689.012,
          -286321.484,
          -275003.582,
          -264362.108,
          -253428.94400000002,
          -242356.98600000006,
          -231671.19400000005,
          -219571.126,
          -209971.218,
          -200261.00400000007,
          -190762.95799999998,
          -178820.17599999998,
          -168141.09000000003,
          -158264.54599999997,
          -147578.49599999998,
          -138038.424,
          -127251.78399999993,
          -118236.42800000001,
          -107765.61200000002,
          -97429.90999999995,
          -86910.95600000006,
          -76779.28599999996,
          -67545.71199999997,
          -57052.53400000004,
          -46044.54799999995,
          -37323.419999999955,
          -26766.335999999923,
          -16845.17200000005,
          -8494.779999999999,
          2267.4460000000254,
          10780.7380000001,
          20792.149999999994,
          27652.68200000003,
          35790.69800000006,
          42502.38200000004,
          52122.92200000002,
          58922.772000000026,
          67436.206,
          76216.288,
          85401.80800000005,
          91758.68200000009,
          100465.23000000001,
          105532.20600000003,
          113287.29600000003,
          118747.38600000006,
          127339.274,
          131716.244,
          136965.40000000002,
          142605.93800000002,
          144418.13799999998,
          148594.94800000003,
          151522.51200000005,
          146216.88200000004,
          142971.16000000003,
          143750.67600000006,
          140074.68600000002,
          134980.77999999997,
          126047.38199999997,
          123615.08800000006,
          111998.24400000004,
          112539.59199999992,
          101886.59999999999,
          95701.96800000001,
          90173.11199999994,
          82006.31200000005,
          74568.56400000006
         ],
         "yaxis": "y"
        },
        {
         "hovertemplate": "variable=ganho_sem_bloq<br>score=%{x}<br>value=%{y}<extra></extra>",
         "legendgroup": "ganho_sem_bloq",
         "line": {
          "color": "#EF553B",
          "dash": "solid"
         },
         "marker": {
          "symbol": "circle"
         },
         "mode": "lines",
         "name": "ganho_sem_bloq",
         "orientation": "v",
         "showlegend": true,
         "type": "scatter",
         "x": [
          0,
          1,
          2,
          3,
          4,
          5,
          6,
          7,
          8,
          9,
          10,
          11,
          12,
          13,
          14,
          15,
          16,
          17,
          18,
          19,
          20,
          21,
          22,
          23,
          24,
          25,
          26,
          27,
          28,
          29,
          30,
          31,
          32,
          33,
          34,
          35,
          36,
          37,
          38,
          39,
          40,
          41,
          42,
          43,
          44,
          45,
          46,
          47,
          48,
          49,
          50,
          51,
          52,
          53,
          54,
          55,
          56,
          57,
          58,
          59,
          60,
          61,
          62,
          63,
          64,
          65,
          66,
          67,
          68,
          69,
          70,
          71,
          72,
          73,
          74,
          75,
          76,
          77,
          78,
          79,
          80,
          81,
          82,
          83,
          84,
          85,
          86,
          87,
          88,
          89,
          90,
          91,
          92,
          93,
          94,
          95,
          96,
          97,
          98,
          99,
          100
         ],
         "xaxis": "x",
         "y": [
          0,
          10839.7,
          13204.877,
          14839.216000000004,
          16703.222,
          20664.628000000004,
          25014.983999999997,
          24508.478000000006,
          28530.171000000006,
          32265.315000000006,
          34384.145000000004,
          35971.47900000001,
          37749.40900000001,
          40410.194,
          41959.866,
          42878.469,
          42379.721999999994,
          45307.57500000001,
          48220.756000000016,
          48691.720000000016,
          50788.21699999999,
          52641.11200000002,
          55012.171,
          52944.77600000001,
          55222.61799999999,
          54926.61700000001,
          58554.58800000002,
          59488.18100000001,
          64754.179000000004,
          70128.16700000003,
          75678.32100000001,
          81468.43400000001,
          87103.57,
          92125.43200000002,
          97286.50000000001,
          102695.019,
          108342.248,
          113903.91900000001,
          118949.71100000001,
          124155.05800000002,
          129659.53199999998,
          134988.008,
          140881.61200000002,
          145493.836,
          149982.56799999997,
          154495.53600000002,
          160211.12200000003,
          165387.96000000002,
          169913.09200000006,
          174585.74200000003,
          179070.863,
          184109.59800000006,
          187904.381,
          192925.669,
          197639.82000000004,
          202526.43699999998,
          207197.86700000003,
          211191.35900000003,
          216311.57799999998,
          221572.06100000005,
          225091.88000000003,
          230199.66700000007,
          234793.569,
          237795.92,
          242881.95800000004,
          245773.01400000008,
          249649.59500000003,
          250489.73600000003,
          252714.85900000005,
          253590.90100000004,
          257006.47600000002,
          257492.05100000004,
          259679.24300000002,
          262179.059,
          263766.23900000006,
          263472.0460000001,
          264929.07,
          263657.39800000004,
          263925.563,
          262730.65300000005,
          264034.667,
          261006.867,
          258820.97000000003,
          256968.154,
          250286.129,
          245963.54900000006,
          241442.30100000004,
          228126.54600000003,
          217608.89500000002,
          209341.04800000007,
          197987.858,
          185954.175,
          170133.73099999997,
          161077.36900000006,
          143827.44700000004,
          138417.98599999992,
          122934.23999999999,
          112283.68900000001,
          103441.50599999994,
          91769.94600000005,
          81546.51700000005
         ],
         "yaxis": "y"
        }
       ],
       "layout": {
        "autosize": false,
        "height": 600,
        "legend": {
         "title": {
          "text": "variable"
         },
         "tracegroupgap": 0
        },
        "template": {
         "data": {
          "bar": [
           {
            "error_x": {
             "color": "#2a3f5f"
            },
            "error_y": {
             "color": "#2a3f5f"
            },
            "marker": {
             "line": {
              "color": "#E5ECF6",
              "width": 0.5
             },
             "pattern": {
              "fillmode": "overlay",
              "size": 10,
              "solidity": 0.2
             }
            },
            "type": "bar"
           }
          ],
          "barpolar": [
           {
            "marker": {
             "line": {
              "color": "#E5ECF6",
              "width": 0.5
             },
             "pattern": {
              "fillmode": "overlay",
              "size": 10,
              "solidity": 0.2
             }
            },
            "type": "barpolar"
           }
          ],
          "carpet": [
           {
            "aaxis": {
             "endlinecolor": "#2a3f5f",
             "gridcolor": "white",
             "linecolor": "white",
             "minorgridcolor": "white",
             "startlinecolor": "#2a3f5f"
            },
            "baxis": {
             "endlinecolor": "#2a3f5f",
             "gridcolor": "white",
             "linecolor": "white",
             "minorgridcolor": "white",
             "startlinecolor": "#2a3f5f"
            },
            "type": "carpet"
           }
          ],
          "choropleth": [
           {
            "colorbar": {
             "outlinewidth": 0,
             "ticks": ""
            },
            "type": "choropleth"
           }
          ],
          "contour": [
           {
            "colorbar": {
             "outlinewidth": 0,
             "ticks": ""
            },
            "colorscale": [
             [
              0,
              "#0d0887"
             ],
             [
              0.1111111111111111,
              "#46039f"
             ],
             [
              0.2222222222222222,
              "#7201a8"
             ],
             [
              0.3333333333333333,
              "#9c179e"
             ],
             [
              0.4444444444444444,
              "#bd3786"
             ],
             [
              0.5555555555555556,
              "#d8576b"
             ],
             [
              0.6666666666666666,
              "#ed7953"
             ],
             [
              0.7777777777777778,
              "#fb9f3a"
             ],
             [
              0.8888888888888888,
              "#fdca26"
             ],
             [
              1,
              "#f0f921"
             ]
            ],
            "type": "contour"
           }
          ],
          "contourcarpet": [
           {
            "colorbar": {
             "outlinewidth": 0,
             "ticks": ""
            },
            "type": "contourcarpet"
           }
          ],
          "heatmap": [
           {
            "colorbar": {
             "outlinewidth": 0,
             "ticks": ""
            },
            "colorscale": [
             [
              0,
              "#0d0887"
             ],
             [
              0.1111111111111111,
              "#46039f"
             ],
             [
              0.2222222222222222,
              "#7201a8"
             ],
             [
              0.3333333333333333,
              "#9c179e"
             ],
             [
              0.4444444444444444,
              "#bd3786"
             ],
             [
              0.5555555555555556,
              "#d8576b"
             ],
             [
              0.6666666666666666,
              "#ed7953"
             ],
             [
              0.7777777777777778,
              "#fb9f3a"
             ],
             [
              0.8888888888888888,
              "#fdca26"
             ],
             [
              1,
              "#f0f921"
             ]
            ],
            "type": "heatmap"
           }
          ],
          "heatmapgl": [
           {
            "colorbar": {
             "outlinewidth": 0,
             "ticks": ""
            },
            "colorscale": [
             [
              0,
              "#0d0887"
             ],
             [
              0.1111111111111111,
              "#46039f"
             ],
             [
              0.2222222222222222,
              "#7201a8"
             ],
             [
              0.3333333333333333,
              "#9c179e"
             ],
             [
              0.4444444444444444,
              "#bd3786"
             ],
             [
              0.5555555555555556,
              "#d8576b"
             ],
             [
              0.6666666666666666,
              "#ed7953"
             ],
             [
              0.7777777777777778,
              "#fb9f3a"
             ],
             [
              0.8888888888888888,
              "#fdca26"
             ],
             [
              1,
              "#f0f921"
             ]
            ],
            "type": "heatmapgl"
           }
          ],
          "histogram": [
           {
            "marker": {
             "pattern": {
              "fillmode": "overlay",
              "size": 10,
              "solidity": 0.2
             }
            },
            "type": "histogram"
           }
          ],
          "histogram2d": [
           {
            "colorbar": {
             "outlinewidth": 0,
             "ticks": ""
            },
            "colorscale": [
             [
              0,
              "#0d0887"
             ],
             [
              0.1111111111111111,
              "#46039f"
             ],
             [
              0.2222222222222222,
              "#7201a8"
             ],
             [
              0.3333333333333333,
              "#9c179e"
             ],
             [
              0.4444444444444444,
              "#bd3786"
             ],
             [
              0.5555555555555556,
              "#d8576b"
             ],
             [
              0.6666666666666666,
              "#ed7953"
             ],
             [
              0.7777777777777778,
              "#fb9f3a"
             ],
             [
              0.8888888888888888,
              "#fdca26"
             ],
             [
              1,
              "#f0f921"
             ]
            ],
            "type": "histogram2d"
           }
          ],
          "histogram2dcontour": [
           {
            "colorbar": {
             "outlinewidth": 0,
             "ticks": ""
            },
            "colorscale": [
             [
              0,
              "#0d0887"
             ],
             [
              0.1111111111111111,
              "#46039f"
             ],
             [
              0.2222222222222222,
              "#7201a8"
             ],
             [
              0.3333333333333333,
              "#9c179e"
             ],
             [
              0.4444444444444444,
              "#bd3786"
             ],
             [
              0.5555555555555556,
              "#d8576b"
             ],
             [
              0.6666666666666666,
              "#ed7953"
             ],
             [
              0.7777777777777778,
              "#fb9f3a"
             ],
             [
              0.8888888888888888,
              "#fdca26"
             ],
             [
              1,
              "#f0f921"
             ]
            ],
            "type": "histogram2dcontour"
           }
          ],
          "mesh3d": [
           {
            "colorbar": {
             "outlinewidth": 0,
             "ticks": ""
            },
            "type": "mesh3d"
           }
          ],
          "parcoords": [
           {
            "line": {
             "colorbar": {
              "outlinewidth": 0,
              "ticks": ""
             }
            },
            "type": "parcoords"
           }
          ],
          "pie": [
           {
            "automargin": true,
            "type": "pie"
           }
          ],
          "scatter": [
           {
            "fillpattern": {
             "fillmode": "overlay",
             "size": 10,
             "solidity": 0.2
            },
            "type": "scatter"
           }
          ],
          "scatter3d": [
           {
            "line": {
             "colorbar": {
              "outlinewidth": 0,
              "ticks": ""
             }
            },
            "marker": {
             "colorbar": {
              "outlinewidth": 0,
              "ticks": ""
             }
            },
            "type": "scatter3d"
           }
          ],
          "scattercarpet": [
           {
            "marker": {
             "colorbar": {
              "outlinewidth": 0,
              "ticks": ""
             }
            },
            "type": "scattercarpet"
           }
          ],
          "scattergeo": [
           {
            "marker": {
             "colorbar": {
              "outlinewidth": 0,
              "ticks": ""
             }
            },
            "type": "scattergeo"
           }
          ],
          "scattergl": [
           {
            "marker": {
             "colorbar": {
              "outlinewidth": 0,
              "ticks": ""
             }
            },
            "type": "scattergl"
           }
          ],
          "scattermapbox": [
           {
            "marker": {
             "colorbar": {
              "outlinewidth": 0,
              "ticks": ""
             }
            },
            "type": "scattermapbox"
           }
          ],
          "scatterpolar": [
           {
            "marker": {
             "colorbar": {
              "outlinewidth": 0,
              "ticks": ""
             }
            },
            "type": "scatterpolar"
           }
          ],
          "scatterpolargl": [
           {
            "marker": {
             "colorbar": {
              "outlinewidth": 0,
              "ticks": ""
             }
            },
            "type": "scatterpolargl"
           }
          ],
          "scatterternary": [
           {
            "marker": {
             "colorbar": {
              "outlinewidth": 0,
              "ticks": ""
             }
            },
            "type": "scatterternary"
           }
          ],
          "surface": [
           {
            "colorbar": {
             "outlinewidth": 0,
             "ticks": ""
            },
            "colorscale": [
             [
              0,
              "#0d0887"
             ],
             [
              0.1111111111111111,
              "#46039f"
             ],
             [
              0.2222222222222222,
              "#7201a8"
             ],
             [
              0.3333333333333333,
              "#9c179e"
             ],
             [
              0.4444444444444444,
              "#bd3786"
             ],
             [
              0.5555555555555556,
              "#d8576b"
             ],
             [
              0.6666666666666666,
              "#ed7953"
             ],
             [
              0.7777777777777778,
              "#fb9f3a"
             ],
             [
              0.8888888888888888,
              "#fdca26"
             ],
             [
              1,
              "#f0f921"
             ]
            ],
            "type": "surface"
           }
          ],
          "table": [
           {
            "cells": {
             "fill": {
              "color": "#EBF0F8"
             },
             "line": {
              "color": "white"
             }
            },
            "header": {
             "fill": {
              "color": "#C8D4E3"
             },
             "line": {
              "color": "white"
             }
            },
            "type": "table"
           }
          ]
         },
         "layout": {
          "annotationdefaults": {
           "arrowcolor": "#2a3f5f",
           "arrowhead": 0,
           "arrowwidth": 1
          },
          "autotypenumbers": "strict",
          "coloraxis": {
           "colorbar": {
            "outlinewidth": 0,
            "ticks": ""
           }
          },
          "colorscale": {
           "diverging": [
            [
             0,
             "#8e0152"
            ],
            [
             0.1,
             "#c51b7d"
            ],
            [
             0.2,
             "#de77ae"
            ],
            [
             0.3,
             "#f1b6da"
            ],
            [
             0.4,
             "#fde0ef"
            ],
            [
             0.5,
             "#f7f7f7"
            ],
            [
             0.6,
             "#e6f5d0"
            ],
            [
             0.7,
             "#b8e186"
            ],
            [
             0.8,
             "#7fbc41"
            ],
            [
             0.9,
             "#4d9221"
            ],
            [
             1,
             "#276419"
            ]
           ],
           "sequential": [
            [
             0,
             "#0d0887"
            ],
            [
             0.1111111111111111,
             "#46039f"
            ],
            [
             0.2222222222222222,
             "#7201a8"
            ],
            [
             0.3333333333333333,
             "#9c179e"
            ],
            [
             0.4444444444444444,
             "#bd3786"
            ],
            [
             0.5555555555555556,
             "#d8576b"
            ],
            [
             0.6666666666666666,
             "#ed7953"
            ],
            [
             0.7777777777777778,
             "#fb9f3a"
            ],
            [
             0.8888888888888888,
             "#fdca26"
            ],
            [
             1,
             "#f0f921"
            ]
           ],
           "sequentialminus": [
            [
             0,
             "#0d0887"
            ],
            [
             0.1111111111111111,
             "#46039f"
            ],
            [
             0.2222222222222222,
             "#7201a8"
            ],
            [
             0.3333333333333333,
             "#9c179e"
            ],
            [
             0.4444444444444444,
             "#bd3786"
            ],
            [
             0.5555555555555556,
             "#d8576b"
            ],
            [
             0.6666666666666666,
             "#ed7953"
            ],
            [
             0.7777777777777778,
             "#fb9f3a"
            ],
            [
             0.8888888888888888,
             "#fdca26"
            ],
            [
             1,
             "#f0f921"
            ]
           ]
          },
          "colorway": [
           "#636efa",
           "#EF553B",
           "#00cc96",
           "#ab63fa",
           "#FFA15A",
           "#19d3f3",
           "#FF6692",
           "#B6E880",
           "#FF97FF",
           "#FECB52"
          ],
          "font": {
           "color": "#2a3f5f"
          },
          "geo": {
           "bgcolor": "white",
           "lakecolor": "white",
           "landcolor": "#E5ECF6",
           "showlakes": true,
           "showland": true,
           "subunitcolor": "white"
          },
          "hoverlabel": {
           "align": "left"
          },
          "hovermode": "closest",
          "mapbox": {
           "style": "light"
          },
          "paper_bgcolor": "white",
          "plot_bgcolor": "#E5ECF6",
          "polar": {
           "angularaxis": {
            "gridcolor": "white",
            "linecolor": "white",
            "ticks": ""
           },
           "bgcolor": "#E5ECF6",
           "radialaxis": {
            "gridcolor": "white",
            "linecolor": "white",
            "ticks": ""
           }
          },
          "scene": {
           "xaxis": {
            "backgroundcolor": "#E5ECF6",
            "gridcolor": "white",
            "gridwidth": 2,
            "linecolor": "white",
            "showbackground": true,
            "ticks": "",
            "zerolinecolor": "white"
           },
           "yaxis": {
            "backgroundcolor": "#E5ECF6",
            "gridcolor": "white",
            "gridwidth": 2,
            "linecolor": "white",
            "showbackground": true,
            "ticks": "",
            "zerolinecolor": "white"
           },
           "zaxis": {
            "backgroundcolor": "#E5ECF6",
            "gridcolor": "white",
            "gridwidth": 2,
            "linecolor": "white",
            "showbackground": true,
            "ticks": "",
            "zerolinecolor": "white"
           }
          },
          "shapedefaults": {
           "line": {
            "color": "#2a3f5f"
           }
          },
          "ternary": {
           "aaxis": {
            "gridcolor": "white",
            "linecolor": "white",
            "ticks": ""
           },
           "baxis": {
            "gridcolor": "white",
            "linecolor": "white",
            "ticks": ""
           },
           "bgcolor": "#E5ECF6",
           "caxis": {
            "gridcolor": "white",
            "linecolor": "white",
            "ticks": ""
           }
          },
          "title": {
           "x": 0.05
          },
          "xaxis": {
           "automargin": true,
           "gridcolor": "white",
           "linecolor": "white",
           "ticks": "",
           "title": {
            "standoff": 15
           },
           "zerolinecolor": "white",
           "zerolinewidth": 2
          },
          "yaxis": {
           "automargin": true,
           "gridcolor": "white",
           "linecolor": "white",
           "ticks": "",
           "title": {
            "standoff": 15
           },
           "zerolinecolor": "white",
           "zerolinewidth": 2
          }
         }
        },
        "title": {
         "text": "ganho vs score"
        },
        "width": 600,
        "xaxis": {
         "anchor": "y",
         "domain": [
          0,
          1
         ],
         "title": {
          "text": "score"
         }
        },
        "yaxis": {
         "anchor": "x",
         "domain": [
          0,
          1
         ],
         "title": {
          "text": "value"
         }
        }
       }
      }
     },
     "metadata": {},
     "output_type": "display_data"
    }
   ],
   "source": [
    "import plotly.express as px\n",
    "\n",
    "fig = px.line(df_gain, x=\"score\", y=[\"ganho_com_bloq\",\"ganho_sem_bloq\"], title='ganho vs score')\n",
    "\n",
    "fig.update_layout(\n",
    "    autosize=False,\n",
    "    width=600,\n",
    "    height=600,)\n",
    "\n",
    "fig.show()"
   ]
  },
  {
   "cell_type": "markdown",
   "metadata": {},
   "source": [
    "# Requirements"
   ]
  },
  {
   "cell_type": "code",
   "execution_count": 110,
   "metadata": {},
   "outputs": [
    {
     "name": "stderr",
     "output_type": "stream",
     "text": [
      "5697.85s - pydevd: Sending message related to process being replaced timed-out after 5 seconds\n"
     ]
    }
   ],
   "source": [
    "path_root = parameters.root\n",
    "!pip list --format=freeze > $path_root/requirements.txt"
   ]
  },
  {
   "cell_type": "code",
   "execution_count": null,
   "metadata": {},
   "outputs": [],
   "source": []
  }
 ],
 "metadata": {
  "kernelspec": {
   "display_name": "Python 3.8.10 ('venv_ml')",
   "language": "python",
   "name": "python3"
  },
  "language_info": {
   "codemirror_mode": {
    "name": "ipython",
    "version": 3
   },
   "file_extension": ".py",
   "mimetype": "text/x-python",
   "name": "python",
   "nbconvert_exporter": "python",
   "pygments_lexer": "ipython3",
   "version": "3.8.10"
  },
  "vscode": {
   "interpreter": {
    "hash": "e1fda5e8bf1bc7cde362cb1509c17f95b96f0cdb4d37fd31cb5cf3e5d26162e6"
   }
  }
 },
 "nbformat": 4,
 "nbformat_minor": 4
}
