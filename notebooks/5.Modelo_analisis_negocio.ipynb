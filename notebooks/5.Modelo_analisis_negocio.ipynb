{
 "cells": [
  {
   "cell_type": "markdown",
   "metadata": {},
   "source": [
    "# Lib"
   ]
  },
  {
   "cell_type": "code",
   "execution_count": 6,
   "metadata": {},
   "outputs": [
    {
     "name": "stdout",
     "output_type": "stream",
     "text": [
      "The autoreload extension is already loaded. To reload it, use:\n",
      "  %reload_ext autoreload\n"
     ]
    }
   ],
   "source": [
    "%load_ext autoreload\n",
    "%autoreload 2\n",
    "\n",
    "import pandas as pd\n",
    "\n",
    "import warnings\n",
    "\n",
    "## ignore warning log in pandas\n",
    "from pandas.core.common import SettingWithCopyWarning\n",
    "warnings.simplefilter(action=\"ignore\", category=SettingWithCopyWarning)\n",
    "\n",
    "pd.set_option('display.max_rows', 500)\n",
    "pd.set_option('display.max_columns', 500)\n",
    "pd.set_option('display.width', 10000)\n",
    "\n",
    "\n",
    "import numpy as np\n",
    "import seaborn as sns\n",
    "import matplotlib.pyplot as plt\n",
    "import joblib\n",
    "import sys\n",
    "\n",
    "if sys.platform=='win32':\n",
    "    sys.path.insert(0,\".\\..\\src\")\n",
    "        \n",
    "elif sys.platform=='linux':\n",
    "    sys.path.insert(0,\"./../src\")\n",
    "\n",
    "from utils import utils_ml, parameters, metrics_evaluation, Pipeline_functions\n",
    "\n",
    "\n",
    "from ipywidgets import *"
   ]
  },
  {
   "cell_type": "code",
   "execution_count": 2,
   "metadata": {},
   "outputs": [
    {
     "name": "stdout",
     "output_type": "stream",
     "text": [
      " O volume na unidade C � OS\n",
      " O N�mero de S�rie do Volume � C498-8BF5\n",
      "\n",
      " Pasta de c:\\Users\\caanp\\OneDrive\\Documents\\repositories\\ML-anti-fraud\\notebooks\n",
      "\n",
      "28/11/2022  00:07    <DIR>          .\n",
      "23/11/2022  00:25    <DIR>          ..\n",
      "10/09/2022  23:28    <DIR>          .ipynb_checkpoints\n",
      "21/11/2022  23:51         1.007.073 1.EA.ipynb\n",
      "25/11/2022  01:27            74.828 2.Feature_engineering.ipynb\n",
      "25/11/2022  01:27            28.364 3.Stability_var.ipynb\n",
      "27/11/2022  12:46           156.602 4.Modeling.ipynb\n",
      "27/11/2022  12:46           156.602 5.Modelo_analisis_negocio.ipynb\n",
      "25/11/2022  01:32           156.224 6.Pipeline.ipynb\n",
      "25/11/2022  01:32           156.224 7.Pipeline_SPARK.ipynb\n",
      "24/11/2022  23:44    <DIR>          catboost_info\n",
      "               7 arquivo(s)      1.735.917 bytes\n",
      "               4 pasta(s)   355.578.576.896 bytes dispon�veis\n"
     ]
    }
   ],
   "source": [
    "if sys.platform=='win32':\n",
    "    !dir .\\\n",
    "        \n",
    "elif sys.platform=='linux':\n",
    "    !ls ./"
   ]
  },
  {
   "cell_type": "markdown",
   "metadata": {},
   "source": [
    "# Reading"
   ]
  },
  {
   "cell_type": "code",
   "execution_count": 3,
   "metadata": {},
   "outputs": [
    {
     "name": "stdout",
     "output_type": "stream",
     "text": [
      "c:\\Users\\caanp\\OneDrive\\Documents\\repositories\\ML-anti-fraud\\notebooks\n"
     ]
    }
   ],
   "source": [
    "## para saber en que directório uno se encuentra\n",
    "#\n",
    "if sys.platform=='win32':\n",
    "    !echo %cd%\n",
    "        \n",
    "elif sys.platform=='linux':\n",
    "    !pwd"
   ]
  },
  {
   "cell_type": "code",
   "execution_count": 4,
   "metadata": {},
   "outputs": [
    {
     "name": "stdout",
     "output_type": "stream",
     "text": [
      " O volume na unidade C � OS\n",
      " O N�mero de S�rie do Volume � C498-8BF5\n",
      "\n",
      " Pasta de c:\\Users\\caanp\\OneDrive\\Documents\\repositories\\ML-anti-fraud\\data\n",
      "\n",
      "24/11/2022  23:37    <DIR>          .\n",
      "23/11/2022  00:25    <DIR>          ..\n",
      "10/08/2021  12:08        26.677.890 dados.csv\n",
      "28/11/2022  00:05        27.547.133 EA.pbix\n",
      "22/11/2022  22:34            39.018 iv_woe_by_week.parquet\n",
      "09/11/2022  10:35            54.091 MySQL_localhost_connection.pbix\n",
      "24/11/2022  23:31         3.891.056 test_dataset.parquet\n",
      "24/11/2022  23:31         8.711.592 train_dataset.parquet\n",
      "25/11/2022  01:12        14.493.356 train_test_dataset_tranformed.parquet\n",
      "24/11/2022  23:31         2.094.822 validation_dataset.parquet\n",
      "               8 arquivo(s)     83.508.958 bytes\n",
      "               2 pasta(s)   355.578.707.968 bytes dispon�veis\n"
     ]
    }
   ],
   "source": [
    "!dir .\\\\..\\data"
   ]
  },
  {
   "cell_type": "code",
   "execution_count": 72,
   "metadata": {},
   "outputs": [],
   "source": [
    "df_origin = pd.read_parquet(f\"{parameters.data_path}\\\\dataset_structed.parquet\")"
   ]
  },
  {
   "cell_type": "code",
   "execution_count": 29,
   "metadata": {},
   "outputs": [],
   "source": [
    "scores = [x for x in range(0,101)]"
   ]
  },
  {
   "cell_type": "markdown",
   "metadata": {},
   "source": [
    "## Cost Matrix and confusion Matrix"
   ]
  },
  {
   "cell_type": "code",
   "execution_count": 177,
   "metadata": {},
   "outputs": [],
   "source": [
    "def cross_tab_matrices( df, label = \"fraude\", probability = \"score\", ticket = 'monto', cutoff = 0, total = False ):\n",
    "\n",
    "    \"\"\"\n",
    "    \n",
    "    \n",
    "    \"\"\"\n",
    "\n",
    "    df_aval = df[ [label, probability, ticket] ]\n",
    "    df_aval['predict'] = df_aval[probability].apply( lambda x: 1 if x>=cutoff else 0  )\n",
    "\n",
    "    confusion_matrix = pd.crosstab( df_aval[label], df_aval['predict'], margins= total  )\n",
    "\n",
    "\n",
    "    confusion_matrix_ticket = pd.crosstab( df_aval[label], df_aval['predict'], values = df[ticket], aggfunc=\"sum\" , margins= total) \n",
    "\n",
    "\n",
    "    return confusion_matrix, confusion_matrix_ticket"
   ]
  },
  {
   "cell_type": "code",
   "execution_count": 199,
   "metadata": {},
   "outputs": [],
   "source": [
    "def confusion_matrix_2_TP_FP_TN_FN(confusion_matrix, total =False):\n",
    "\n",
    "    \"\"\"\n",
    "\n",
    "\n",
    "    \"\"\"\n",
    "\n",
    "\n",
    "    try:\n",
    "        TP = confusion_matrix.iloc[lambda x: x.index == 1, lambda x: x.columns == 1][1][1]\n",
    "    except:\n",
    "        TP = 0\n",
    "\n",
    "    try:\n",
    "        FP = confusion_matrix.iloc[lambda x: x.index == 0, lambda x: x.columns == 1][1][0]\n",
    "    except:\n",
    "        FP = 0\n",
    "\n",
    "    try:\n",
    "        TN = confusion_matrix.iloc[lambda x: x.index == 0, lambda x: x.columns == 0][0][0]\n",
    "    except:\n",
    "        TN = 0\n",
    "\n",
    "    try:\n",
    "        FN = confusion_matrix.iloc[lambda x: x.index == 1, lambda x: x.columns == 0][0][1]\n",
    "    except:\n",
    "        FN = 0\n",
    "\n",
    "    ## Computing the events and non events\n",
    "    events = confusion_matrix.iloc[lambda x: x.index == 1].sum().sum()\n",
    "    non_events = confusion_matrix.iloc[lambda x: x.index == 0].sum().sum()\n",
    "\n",
    "    ## If total is True, we need to divide by 2\n",
    "    P = events/2 if total == True else events\n",
    "    N = non_events/2 if total == True else non_events\n",
    "\n",
    "\n",
    "    return TP, FP, TN, FN, P, N"
   ]
  },
  {
   "cell_type": "code",
   "execution_count": 268,
   "metadata": {},
   "outputs": [],
   "source": [
    "def confusion_matrix_2_bussines(confusion_matrix_ticket, total =False):\n",
    "\n",
    "    \"\"\"\n",
    "\n",
    "\n",
    "    \"\"\"\n",
    "\n",
    "    try:\n",
    "        gain = confusion_matrix_ticket.iloc[lambda x: x.index == 0, lambda x: x.columns == 0][0][0]\n",
    "    except:\n",
    "        gain = 0\n",
    "\n",
    "    try:\n",
    "        lost_by_bloq = confusion_matrix_ticket.iloc[lambda x: x.index == 0, lambda x: x.columns == 1][1][0]\n",
    "    except:\n",
    "        lost_by_bloq = 0\n",
    "\n",
    "    try:\n",
    "        lost_by_fraud = confusion_matrix_ticket.iloc[lambda x: x.index == 1, lambda x: x.columns == 0][0][1]\n",
    "    except:\n",
    "        lost_by_fraud = 0\n",
    "\n",
    "    try:\n",
    "        success_by_fraud = confusion_matrix_ticket.iloc[lambda x: x.index == 1, lambda x: x.columns == 1][1][1]\n",
    "    except:\n",
    "        success_by_fraud = 0\n",
    "\n",
    "\n",
    "    total_ticket = confusion_matrix_ticket.sum().sum()\n",
    "    \n",
    "    ## We need to dividy by 4 when total is true.\n",
    "    total_sell = total_ticket/4 if total==True else total_ticket\n",
    "\n",
    "\n",
    "    return gain, lost_by_bloq, lost_by_fraud, success_by_fraud, total_sell\n",
    "\n"
   ]
  },
  {
   "cell_type": "code",
   "execution_count": 269,
   "metadata": {},
   "outputs": [
    {
     "data": {
      "application/vnd.jupyter.widget-view+json": {
       "model_id": "7c2c7c9624554addbcac4282c4569dbe",
       "version_major": 2,
       "version_minor": 0
      },
      "text/plain": [
       "interactive(children=(IntSlider(value=50, description='score'), Dropdown(description='option', options=(False,…"
      ]
     },
     "metadata": {},
     "output_type": "display_data"
    }
   ],
   "source": [
    "@interact\n",
    "\n",
    "def slice_score_in_matrix_confusion(score = (0,100), option = [False, True]):\n",
    "\n",
    "\n",
    "    confusion_matrix, confusion_matrix_monto = cross_tab_matrices(df_origin, cutoff= score, total = option)\n",
    "\n",
    "    ######################### Métricas ##################################################\n",
    "    TP, FP, TN, FN, P, N = confusion_matrix_2_TP_FP_TN_FN( confusion_matrix, total = option  )\n",
    "    gain, lost_by_bloq, lost_by_fraud, success_by_fraud, total_sell = confusion_matrix_2_bussines(confusion_matrix_monto, total = option)\n",
    "\n",
    "    Recall = TP/P\n",
    "    TNR = TN/N\n",
    "\n",
    "    indicator = (gain-lost_by_bloq-lost_by_fraud)/total_sell\n",
    "\n",
    "\n",
    "    print(\"\\n\\n\",\"========================== Confusion Matrix =======================================\")\n",
    "    display( confusion_matrix )\n",
    "\n",
    "\n",
    "    print(\"Total fraudes: \", P)\n",
    "    print(\"Total Não fraudes: \", N)\n",
    "    print(\"\\n\\n\")\n",
    "    print(\"Recall: \", Recall)\n",
    "    print(\"FPR: \", TNR)\n",
    "\n",
    "    print(\"\\n\\n\",\"========================== Cost confusion Matrix =======================================\")\n",
    "    display( confusion_matrix_monto  )\n",
    "\n",
    "    print(\"Total vendido: \", total_sell)\n",
    "    print(\"\\n\\n\")\n",
    "    print(\"indicador: \", indicator)\n"
   ]
  },
  {
   "cell_type": "markdown",
   "metadata": {},
   "source": [
    "# Requirements"
   ]
  },
  {
   "cell_type": "code",
   "execution_count": 110,
   "metadata": {},
   "outputs": [
    {
     "name": "stderr",
     "output_type": "stream",
     "text": [
      "5697.85s - pydevd: Sending message related to process being replaced timed-out after 5 seconds\n"
     ]
    }
   ],
   "source": [
    "path_root = parameters.root\n",
    "!pip list --format=freeze > $path_root/requirements.txt"
   ]
  },
  {
   "cell_type": "code",
   "execution_count": null,
   "metadata": {},
   "outputs": [],
   "source": []
  }
 ],
 "metadata": {
  "kernelspec": {
   "display_name": "Python 3.8.10 ('venv_ml')",
   "language": "python",
   "name": "python3"
  },
  "language_info": {
   "codemirror_mode": {
    "name": "ipython",
    "version": 3
   },
   "file_extension": ".py",
   "mimetype": "text/x-python",
   "name": "python",
   "nbconvert_exporter": "python",
   "pygments_lexer": "ipython3",
   "version": "3.8.10"
  },
  "vscode": {
   "interpreter": {
    "hash": "e1fda5e8bf1bc7cde362cb1509c17f95b96f0cdb4d37fd31cb5cf3e5d26162e6"
   }
  }
 },
 "nbformat": 4,
 "nbformat_minor": 4
}
